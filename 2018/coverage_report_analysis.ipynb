{
 "cells": [
  {
   "cell_type": "markdown",
   "metadata": {},
   "source": [
    "# Analysis of Google Coverage Report  \n"
   ]
  },
  {
   "cell_type": "code",
   "execution_count": 50,
   "metadata": {
    "collapsed": false
   },
   "outputs": [],
   "source": [
    "import pandas as pd\n",
    "from IPython.display import display\n",
    "import os\n",
    "\n",
    "# RENAME FILES\n",
    "try:\n",
    "    os.rename('/Users/kaleighohara/Downloads/qa-output.csv-00000-of-00001', 'qa-output-state.csv')\n",
    "    os.rename('/Users/kaleighohara/Downloads/qa-output (1).csv-00000-of-00001', 'qa-output-county.csv')\n",
    "except:\n",
    "    pass\n",
    "\n",
    "# IMPORT FILES\n",
    "state_data = pd.read_csv('qa-output-state.csv')\n",
    "county_data = pd.read_csv('qa-output-county.csv')"
   ]
  },
  {
   "cell_type": "markdown",
   "metadata": {},
   "source": [
    "---------\n",
    "# Early Voting - States"
   ]
  },
  {
   "cell_type": "code",
   "execution_count": 117,
   "metadata": {
    "collapsed": false
   },
   "outputs": [],
   "source": [
    "# COVERAGE DATA FOR ALL STATES\n",
    "states = state_data[['state', 'TOTAL_count', 'NO_EV_SITES_count', 'NO_EV_SITES_percent']]"
   ]
  },
  {
   "cell_type": "markdown",
   "metadata": {},
   "source": [
    "### Coverage Report For Early Voting States Uploaded to Dashboard"
   ]
  },
  {
   "cell_type": "code",
   "execution_count": 118,
   "metadata": {
    "collapsed": true
   },
   "outputs": [],
   "source": [
    "dashboard_states = ['AK','AR','AZ','CA','DC','FL','HI','IA','ID','IL','IN','KS','LA','MD','ME','MN','MT',\n",
    "              'ND','NE','NM','NV','OH','OK','SD','UT','VT','WA','WV','WY']\n",
    "\n",
    "# The maximum acceptable percentage of 'no coverage' for states\n",
    "state_coverage_threshold = 0.01\n"
   ]
  },
  {
   "cell_type": "code",
   "execution_count": 119,
   "metadata": {
    "collapsed": false,
    "scrolled": true
   },
   "outputs": [
    {
     "data": {
      "text/html": [
       "<div>\n",
       "<style scoped>\n",
       "    .dataframe tbody tr th:only-of-type {\n",
       "        vertical-align: middle;\n",
       "    }\n",
       "\n",
       "    .dataframe tbody tr th {\n",
       "        vertical-align: top;\n",
       "    }\n",
       "\n",
       "    .dataframe thead th {\n",
       "        text-align: right;\n",
       "    }\n",
       "</style>\n",
       "<table border=\"1\" class=\"dataframe\">\n",
       "  <thead>\n",
       "    <tr style=\"text-align: right;\">\n",
       "      <th></th>\n",
       "      <th>state</th>\n",
       "      <th>TOTAL_count</th>\n",
       "      <th>NO_EV_SITES_count</th>\n",
       "      <th>NO_EV_SITES_percent</th>\n",
       "    </tr>\n",
       "  </thead>\n",
       "  <tbody>\n",
       "    <tr>\n",
       "      <th>2</th>\n",
       "      <td>AR</td>\n",
       "      <td>3407</td>\n",
       "      <td>40</td>\n",
       "      <td>0.011741</td>\n",
       "    </tr>\n",
       "    <tr>\n",
       "      <th>3</th>\n",
       "      <td>AZ</td>\n",
       "      <td>7702</td>\n",
       "      <td>4815</td>\n",
       "      <td>0.625162</td>\n",
       "    </tr>\n",
       "    <tr>\n",
       "      <th>7</th>\n",
       "      <td>DC</td>\n",
       "      <td>902</td>\n",
       "      <td>900</td>\n",
       "      <td>0.997783</td>\n",
       "    </tr>\n",
       "    <tr>\n",
       "      <th>16</th>\n",
       "      <td>KS</td>\n",
       "      <td>3628</td>\n",
       "      <td>73</td>\n",
       "      <td>0.020121</td>\n",
       "    </tr>\n",
       "    <tr>\n",
       "      <th>21</th>\n",
       "      <td>ME</td>\n",
       "      <td>2036</td>\n",
       "      <td>113</td>\n",
       "      <td>0.055501</td>\n",
       "    </tr>\n",
       "    <tr>\n",
       "      <th>36</th>\n",
       "      <td>OK</td>\n",
       "      <td>3960</td>\n",
       "      <td>67</td>\n",
       "      <td>0.016919</td>\n",
       "    </tr>\n",
       "    <tr>\n",
       "      <th>41</th>\n",
       "      <td>SD</td>\n",
       "      <td>1097</td>\n",
       "      <td>16</td>\n",
       "      <td>0.014585</td>\n",
       "    </tr>\n",
       "    <tr>\n",
       "      <th>46</th>\n",
       "      <td>VT</td>\n",
       "      <td>837</td>\n",
       "      <td>133</td>\n",
       "      <td>0.158901</td>\n",
       "    </tr>\n",
       "  </tbody>\n",
       "</table>\n",
       "</div>"
      ],
      "text/plain": [
       "   state  TOTAL_count  NO_EV_SITES_count  NO_EV_SITES_percent\n",
       "2     AR         3407                 40             0.011741\n",
       "3     AZ         7702               4815             0.625162\n",
       "7     DC          902                900             0.997783\n",
       "16    KS         3628                 73             0.020121\n",
       "21    ME         2036                113             0.055501\n",
       "36    OK         3960                 67             0.016919\n",
       "41    SD         1097                 16             0.014585\n",
       "46    VT          837                133             0.158901"
      ]
     },
     "execution_count": 119,
     "metadata": {},
     "output_type": "execute_result"
    }
   ],
   "source": [
    "# COVERAGE REPORT FOR STATES UPLOADED TO DASHBOARD\n",
    "coverage_select_states = states.loc[states['state'].isin(dashboard_states)]\n",
    "\n",
    "# COVERAGE REPORT FOR STATES EXCEEDING 'NO COVERAGE' THRESHOLD\n",
    "coverage_select_states[coverage_select_states['NO_EV_SITES_percent'] > state_coverage_threshold]\n"
   ]
  },
  {
   "cell_type": "markdown",
   "metadata": {},
   "source": [
    "**NOTES:**  \n",
    "    AZ - Missing Maricopa County  \n",
    "    ME - Known Issues  \n",
    "    VT - Known Issues"
   ]
  },
  {
   "cell_type": "markdown",
   "metadata": {},
   "source": [
    "#### Coverage Report For All Early Voting States"
   ]
  },
  {
   "cell_type": "code",
   "execution_count": 120,
   "metadata": {
    "collapsed": false
   },
   "outputs": [],
   "source": [
    "ev_states = ['AK','AR','AZ','CA','DC','FL','HI','IA','ID','IL','IN','KS','LA','MA','MD','ME','MN','MT',\n",
    "              'ND','NE','NH','NM','NV','OH','OK','SD','TN','TX','UT','VT','WA','WV','WY']\n",
    "\n",
    "# COVERAGE REPORT FOR ALL STATES\n",
    "coverage_ev_states = states.loc[states['state'].isin(ev_states)]\n",
    "# coverage_ev_states[coverage_ev_states['NO_EV_SITES_percent'] < 0.9]"
   ]
  },
  {
   "cell_type": "markdown",
   "metadata": {
    "collapsed": true
   },
   "source": [
    "#### States Not Yet Uploaded to Dashboard"
   ]
  },
  {
   "cell_type": "code",
   "execution_count": 121,
   "metadata": {
    "collapsed": false
   },
   "outputs": [
    {
     "data": {
      "text/plain": [
       "['MA', 'NH', 'TN', 'TX']"
      ]
     },
     "execution_count": 121,
     "metadata": {},
     "output_type": "execute_result"
    }
   ],
   "source": [
    "sorted(list(set(ev_states) - set(dashboard_states)))"
   ]
  },
  {
   "cell_type": "markdown",
   "metadata": {},
   "source": [
    "----  \n",
    "\n",
    "# Early Voting - Counties"
   ]
  },
  {
   "cell_type": "code",
   "execution_count": 122,
   "metadata": {
    "collapsed": true
   },
   "outputs": [],
   "source": [
    "selected_state = 'VT'\n",
    "\n",
    "# The maximum acceptable percentage of 'no coverage' for counties\n",
    "county_coverage_threshold = 0.2\n"
   ]
  },
  {
   "cell_type": "code",
   "execution_count": 123,
   "metadata": {
    "collapsed": false,
    "scrolled": true
   },
   "outputs": [
    {
     "data": {
      "text/html": [
       "<div>\n",
       "<style scoped>\n",
       "    .dataframe tbody tr th:only-of-type {\n",
       "        vertical-align: middle;\n",
       "    }\n",
       "\n",
       "    .dataframe tbody tr th {\n",
       "        vertical-align: top;\n",
       "    }\n",
       "\n",
       "    .dataframe thead th {\n",
       "        text-align: right;\n",
       "    }\n",
       "</style>\n",
       "<table border=\"1\" class=\"dataframe\">\n",
       "  <thead>\n",
       "    <tr style=\"text-align: right;\">\n",
       "      <th></th>\n",
       "      <th>state</th>\n",
       "      <th>county</th>\n",
       "      <th>TOTAL_count</th>\n",
       "      <th>NO_EV_SITES_count</th>\n",
       "      <th>NO_EV_SITES_percent</th>\n",
       "    </tr>\n",
       "  </thead>\n",
       "  <tbody>\n",
       "    <tr>\n",
       "      <th>2919</th>\n",
       "      <td>VT</td>\n",
       "      <td>ADDISON</td>\n",
       "      <td>54</td>\n",
       "      <td>11</td>\n",
       "      <td>0.203704</td>\n",
       "    </tr>\n",
       "    <tr>\n",
       "      <th>2920</th>\n",
       "      <td>VT</td>\n",
       "      <td>BENNINGTON</td>\n",
       "      <td>39</td>\n",
       "      <td>14</td>\n",
       "      <td>0.358974</td>\n",
       "    </tr>\n",
       "    <tr>\n",
       "      <th>2921</th>\n",
       "      <td>VT</td>\n",
       "      <td>CALEDONIA</td>\n",
       "      <td>39</td>\n",
       "      <td>12</td>\n",
       "      <td>0.307692</td>\n",
       "    </tr>\n",
       "    <tr>\n",
       "      <th>2924</th>\n",
       "      <td>VT</td>\n",
       "      <td>FRANKLIN</td>\n",
       "      <td>44</td>\n",
       "      <td>19</td>\n",
       "      <td>0.431818</td>\n",
       "    </tr>\n",
       "    <tr>\n",
       "      <th>2926</th>\n",
       "      <td>VT</td>\n",
       "      <td>LAMOILLE</td>\n",
       "      <td>34</td>\n",
       "      <td>7</td>\n",
       "      <td>0.205882</td>\n",
       "    </tr>\n",
       "  </tbody>\n",
       "</table>\n",
       "</div>"
      ],
      "text/plain": [
       "     state      county  TOTAL_count  NO_EV_SITES_count  NO_EV_SITES_percent\n",
       "2919    VT     ADDISON           54                 11             0.203704\n",
       "2920    VT  BENNINGTON           39                 14             0.358974\n",
       "2921    VT   CALEDONIA           39                 12             0.307692\n",
       "2924    VT    FRANKLIN           44                 19             0.431818\n",
       "2926    VT    LAMOILLE           34                  7             0.205882"
      ]
     },
     "execution_count": 123,
     "metadata": {},
     "output_type": "execute_result"
    }
   ],
   "source": [
    "# COVERAGE DATA FOR ALL COUNTIES\n",
    "counties = county_data[['state', 'county', 'TOTAL_count', 'NO_EV_SITES_count', 'NO_EV_SITES_percent']]\n",
    "\n",
    "\n",
    "# ALL COUNTIES FOR THE SELECTED STATE\n",
    "selected_ev_counties = counties.loc[counties['state'] == selected_state]\n",
    "# display(selected_ev_counties)\n",
    "\n",
    "\n",
    "# COVERAGE REPORT FOR COUNTIES EXCEEDING 'NO COVERAGE' THRESHOLD\n",
    "selected_ev_counties[selected_ev_counties['NO_EV_SITES_percent'] >= county_coverage_threshold]"
   ]
  },
  {
   "cell_type": "markdown",
   "metadata": {},
   "source": [
    "### All Counties on Dashboard with No Coverage"
   ]
  },
  {
   "cell_type": "code",
   "execution_count": 128,
   "metadata": {
    "collapsed": false,
    "scrolled": true
   },
   "outputs": [
    {
     "data": {
      "text/html": [
       "<div>\n",
       "<style scoped>\n",
       "    .dataframe tbody tr th:only-of-type {\n",
       "        vertical-align: middle;\n",
       "    }\n",
       "\n",
       "    .dataframe tbody tr th {\n",
       "        vertical-align: top;\n",
       "    }\n",
       "\n",
       "    .dataframe thead th {\n",
       "        text-align: right;\n",
       "    }\n",
       "</style>\n",
       "<table border=\"1\" class=\"dataframe\">\n",
       "  <thead>\n",
       "    <tr style=\"text-align: right;\">\n",
       "      <th></th>\n",
       "      <th>state</th>\n",
       "      <th>county</th>\n",
       "      <th>TOTAL_count</th>\n",
       "      <th>NO_EV_SITES_count</th>\n",
       "      <th>NO_EV_SITES_percent</th>\n",
       "    </tr>\n",
       "  </thead>\n",
       "  <tbody>\n",
       "    <tr>\n",
       "      <th>90</th>\n",
       "      <td>AR</td>\n",
       "      <td>CALHOUN</td>\n",
       "      <td>5</td>\n",
       "      <td>5</td>\n",
       "      <td>1.000000</td>\n",
       "    </tr>\n",
       "    <tr>\n",
       "      <th>166</th>\n",
       "      <td>AZ</td>\n",
       "      <td>MARICOPA</td>\n",
       "      <td>4770</td>\n",
       "      <td>4770</td>\n",
       "      <td>1.000000</td>\n",
       "    </tr>\n",
       "    <tr>\n",
       "      <th>171</th>\n",
       "      <td>AZ</td>\n",
       "      <td>SAN JUAN</td>\n",
       "      <td>1</td>\n",
       "      <td>1</td>\n",
       "      <td>1.000000</td>\n",
       "    </tr>\n",
       "    <tr>\n",
       "      <th>305</th>\n",
       "      <td>DC</td>\n",
       "      <td>NaN</td>\n",
       "      <td>902</td>\n",
       "      <td>900</td>\n",
       "      <td>0.997783</td>\n",
       "    </tr>\n",
       "    <tr>\n",
       "      <th>892</th>\n",
       "      <td>KS</td>\n",
       "      <td>CHEYENNE</td>\n",
       "      <td>2</td>\n",
       "      <td>2</td>\n",
       "      <td>1.000000</td>\n",
       "    </tr>\n",
       "    <tr>\n",
       "      <th>898</th>\n",
       "      <td>KS</td>\n",
       "      <td>CRAWFORD</td>\n",
       "      <td>47</td>\n",
       "      <td>47</td>\n",
       "      <td>1.000000</td>\n",
       "    </tr>\n",
       "    <tr>\n",
       "      <th>926</th>\n",
       "      <td>KS</td>\n",
       "      <td>KEARNY</td>\n",
       "      <td>3</td>\n",
       "      <td>3</td>\n",
       "      <td>1.000000</td>\n",
       "    </tr>\n",
       "    <tr>\n",
       "      <th>950</th>\n",
       "      <td>KS</td>\n",
       "      <td>OSBORNE</td>\n",
       "      <td>6</td>\n",
       "      <td>6</td>\n",
       "      <td>1.000000</td>\n",
       "    </tr>\n",
       "    <tr>\n",
       "      <th>1866</th>\n",
       "      <td>NE</td>\n",
       "      <td>ROCK</td>\n",
       "      <td>4</td>\n",
       "      <td>4</td>\n",
       "      <td>1.000000</td>\n",
       "    </tr>\n",
       "    <tr>\n",
       "      <th>1879</th>\n",
       "      <td>NE</td>\n",
       "      <td>TODD</td>\n",
       "      <td>2</td>\n",
       "      <td>2</td>\n",
       "      <td>1.000000</td>\n",
       "    </tr>\n",
       "    <tr>\n",
       "      <th>2159</th>\n",
       "      <td>OK</td>\n",
       "      <td>MARSHALL</td>\n",
       "      <td>17</td>\n",
       "      <td>17</td>\n",
       "      <td>1.000000</td>\n",
       "    </tr>\n",
       "  </tbody>\n",
       "</table>\n",
       "</div>"
      ],
      "text/plain": [
       "     state    county  TOTAL_count  NO_EV_SITES_count  NO_EV_SITES_percent\n",
       "90      AR   CALHOUN            5                  5             1.000000\n",
       "166     AZ  MARICOPA         4770               4770             1.000000\n",
       "171     AZ  SAN JUAN            1                  1             1.000000\n",
       "305     DC       NaN          902                900             0.997783\n",
       "892     KS  CHEYENNE            2                  2             1.000000\n",
       "898     KS  CRAWFORD           47                 47             1.000000\n",
       "926     KS    KEARNY            3                  3             1.000000\n",
       "950     KS   OSBORNE            6                  6             1.000000\n",
       "1866    NE      ROCK            4                  4             1.000000\n",
       "1879    NE      TODD            2                  2             1.000000\n",
       "2159    OK  MARSHALL           17                 17             1.000000"
      ]
     },
     "execution_count": 128,
     "metadata": {},
     "output_type": "execute_result"
    }
   ],
   "source": [
    "all_dashboard_counties = counties.loc[counties['state'].isin(dashboard_states)]\n",
    "all_dashboard_counties[all_dashboard_counties['NO_EV_SITES_percent'] > 0.9]"
   ]
  },
  {
   "cell_type": "markdown",
   "metadata": {
    "collapsed": true
   },
   "source": [
    "------------\n",
    "# Polling Place - States"
   ]
  },
  {
   "cell_type": "code",
   "execution_count": 125,
   "metadata": {
    "collapsed": false
   },
   "outputs": [
    {
     "data": {
      "text/html": [
       "<div>\n",
       "<style scoped>\n",
       "    .dataframe tbody tr th:only-of-type {\n",
       "        vertical-align: middle;\n",
       "    }\n",
       "\n",
       "    .dataframe tbody tr th {\n",
       "        vertical-align: top;\n",
       "    }\n",
       "\n",
       "    .dataframe thead th {\n",
       "        text-align: right;\n",
       "    }\n",
       "</style>\n",
       "<table border=\"1\" class=\"dataframe\">\n",
       "  <thead>\n",
       "    <tr style=\"text-align: right;\">\n",
       "      <th></th>\n",
       "      <th>state</th>\n",
       "      <th>TOTAL_count</th>\n",
       "      <th>NO_POLLING_LOCATION_count</th>\n",
       "      <th>NO_POLLING_LOCATION_percent</th>\n",
       "      <th>CONFLICTING_POLLING_LOCATIONS_count</th>\n",
       "      <th>NO_DYNAMIC_STREET_SEGMENT_count</th>\n",
       "      <th>NO_DYNAMIC_STREET_SEGMENT_percent</th>\n",
       "    </tr>\n",
       "  </thead>\n",
       "  <tbody>\n",
       "    <tr>\n",
       "      <th>30</th>\n",
       "      <td>NH</td>\n",
       "      <td>1804</td>\n",
       "      <td>268</td>\n",
       "      <td>0.148559</td>\n",
       "      <td>1</td>\n",
       "      <td>129</td>\n",
       "      <td>0.071508</td>\n",
       "    </tr>\n",
       "    <tr>\n",
       "      <th>41</th>\n",
       "      <td>SD</td>\n",
       "      <td>1097</td>\n",
       "      <td>486</td>\n",
       "      <td>0.443026</td>\n",
       "      <td>6</td>\n",
       "      <td>478</td>\n",
       "      <td>0.435734</td>\n",
       "    </tr>\n",
       "  </tbody>\n",
       "</table>\n",
       "</div>"
      ],
      "text/plain": [
       "   state  TOTAL_count  NO_POLLING_LOCATION_count  NO_POLLING_LOCATION_percent  \\\n",
       "30    NH         1804                        268                     0.148559   \n",
       "41    SD         1097                        486                     0.443026   \n",
       "\n",
       "    CONFLICTING_POLLING_LOCATIONS_count  NO_DYNAMIC_STREET_SEGMENT_count  \\\n",
       "30                                    1                              129   \n",
       "41                                    6                              478   \n",
       "\n",
       "    NO_DYNAMIC_STREET_SEGMENT_percent  \n",
       "30                           0.071508  \n",
       "41                           0.435734  "
      ]
     },
     "execution_count": 125,
     "metadata": {},
     "output_type": "execute_result"
    }
   ],
   "source": [
    "pollplace_states = ['NH', 'SD']\n",
    "\n",
    "# ALL PP FIELDS\n",
    "# state_data[['state','TOTAL_count','TOTAL_PL_COVERAGE_percent','NO_POLLING_LOCATION_count',\n",
    "# 'NO_POLLING_LOCATION_percent','CONFLICTING_POLLING_LOCATIONS_count',\n",
    "# 'CONFLICTING_POLLING_LOCATIONS_percent','NO_DYNAMIC_STREET_SEGMENT_count',\n",
    "# 'NO_DYNAMIC_STREET_SEGMENT_percent']]\n",
    "\n",
    "# COVERAGE DATA FOR ALL STATES\n",
    "pp_states = state_data[['state','TOTAL_count','NO_POLLING_LOCATION_count','NO_POLLING_LOCATION_percent',\n",
    "                        'CONFLICTING_POLLING_LOCATIONS_count','NO_DYNAMIC_STREET_SEGMENT_count',\n",
    "                        'NO_DYNAMIC_STREET_SEGMENT_percent']]\n",
    "\n",
    "# COVERAGE REPORT FOR STATES UPLOADED TO DASHBOARD\n",
    "coverage_pp_states = pp_states.loc[pp_states['state'].isin(pollplace_states)]\n",
    "coverage_pp_states"
   ]
  },
  {
   "cell_type": "markdown",
   "metadata": {},
   "source": [
    "-----  \n",
    "\n",
    "# Polling Place - Counties  "
   ]
  },
  {
   "cell_type": "code",
   "execution_count": 126,
   "metadata": {
    "collapsed": true
   },
   "outputs": [],
   "source": [
    "selected_pp_state = 'NH'\n",
    "\n",
    "# The maximum acceptable percentage of 'no coverage' for counties\n",
    "county_coverage_threshold = 0.2"
   ]
  },
  {
   "cell_type": "code",
   "execution_count": 129,
   "metadata": {
    "collapsed": false
   },
   "outputs": [
    {
     "data": {
      "text/html": [
       "<div>\n",
       "<style scoped>\n",
       "    .dataframe tbody tr th:only-of-type {\n",
       "        vertical-align: middle;\n",
       "    }\n",
       "\n",
       "    .dataframe tbody tr th {\n",
       "        vertical-align: top;\n",
       "    }\n",
       "\n",
       "    .dataframe thead th {\n",
       "        text-align: right;\n",
       "    }\n",
       "</style>\n",
       "<table border=\"1\" class=\"dataframe\">\n",
       "  <thead>\n",
       "    <tr style=\"text-align: right;\">\n",
       "      <th></th>\n",
       "      <th>state</th>\n",
       "      <th>county</th>\n",
       "      <th>TOTAL_count</th>\n",
       "      <th>NO_POLLING_LOCATION_count</th>\n",
       "      <th>NO_POLLING_LOCATION_percent</th>\n",
       "      <th>CONFLICTING_POLLING_LOCATIONS_count</th>\n",
       "      <th>NO_DYNAMIC_STREET_SEGMENT_count</th>\n",
       "      <th>NO_DYNAMIC_STREET_SEGMENT_percent</th>\n",
       "    </tr>\n",
       "  </thead>\n",
       "  <tbody>\n",
       "    <tr>\n",
       "      <th>1888</th>\n",
       "      <td>NH</td>\n",
       "      <td>COOS</td>\n",
       "      <td>38</td>\n",
       "      <td>10</td>\n",
       "      <td>0.263158</td>\n",
       "      <td>0</td>\n",
       "      <td>3</td>\n",
       "      <td>0.078947</td>\n",
       "    </tr>\n",
       "  </tbody>\n",
       "</table>\n",
       "</div>"
      ],
      "text/plain": [
       "     state county  TOTAL_count  NO_POLLING_LOCATION_count  \\\n",
       "1888    NH   COOS           38                         10   \n",
       "\n",
       "      NO_POLLING_LOCATION_percent  CONFLICTING_POLLING_LOCATIONS_count  \\\n",
       "1888                     0.263158                                    0   \n",
       "\n",
       "      NO_DYNAMIC_STREET_SEGMENT_count  NO_DYNAMIC_STREET_SEGMENT_percent  \n",
       "1888                                3                           0.078947  "
      ]
     },
     "execution_count": 129,
     "metadata": {},
     "output_type": "execute_result"
    }
   ],
   "source": [
    "# COVERAGE DATA FOR ALL COUNTIES\n",
    "pp_counties = county_data[['state','county','TOTAL_count','NO_POLLING_LOCATION_count','NO_POLLING_LOCATION_percent',\n",
    "                        'CONFLICTING_POLLING_LOCATIONS_count','NO_DYNAMIC_STREET_SEGMENT_count',\n",
    "                        'NO_DYNAMIC_STREET_SEGMENT_percent']]\n",
    "\n",
    "\n",
    "# ALL COUNTIES FOR THE SELECTED STATE\n",
    "selected_pp_counties = pp_counties.loc[counties['state'] == selected_pp_state]\n",
    "# display(selected_pp_counties)\n",
    "\n",
    "\n",
    "# COVERAGE REPORT FOR COUNTIES EXCEEDING 'NO COVERAGE' THRESHOLD\n",
    "selected_pp_counties[selected_pp_counties['NO_POLLING_LOCATION_percent'] > county_coverage_threshold]"
   ]
  },
  {
   "cell_type": "code",
   "execution_count": null,
   "metadata": {
    "collapsed": true
   },
   "outputs": [],
   "source": []
  },
  {
   "cell_type": "code",
   "execution_count": null,
   "metadata": {
    "collapsed": true
   },
   "outputs": [],
   "source": []
  }
 ],
 "metadata": {
  "anaconda-cloud": {},
  "kernelspec": {
   "display_name": "Python [default]",
   "language": "python",
   "name": "python3"
  },
  "language_info": {
   "codemirror_mode": {
    "name": "ipython",
    "version": 3
   },
   "file_extension": ".py",
   "mimetype": "text/x-python",
   "name": "python",
   "nbconvert_exporter": "python",
   "pygments_lexer": "ipython3",
   "version": "3.5.2"
  }
 },
 "nbformat": 4,
 "nbformat_minor": 2
}
